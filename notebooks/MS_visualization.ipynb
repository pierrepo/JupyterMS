{
 "cells": [
  {
   "cell_type": "markdown",
   "metadata": {},
   "source": [
    "# Visualization of MS spectrum"
   ]
  },
  {
   "cell_type": "markdown",
   "metadata": {},
   "source": [
    "## Imports"
   ]
  },
  {
   "cell_type": "code",
   "execution_count": 1,
   "metadata": {},
   "outputs": [
    {
     "name": "stdout",
     "output_type": "stream",
     "text": [
      "Matplotlib version : 3.1.1\n",
      "Pyteomics version: 4.1.2\n",
      "PyOpenMS version: 2.4.0\n"
     ]
    }
   ],
   "source": [
    "%matplotlib inline\n",
    "\n",
    "from pathlib import Path\n",
    "\n",
    "from matplotlib import pyplot as plt,__version__ as plt_version\n",
    "from pkg_resources import get_distribution  # Comes with setuptools.\n",
    "from pyteomics import mzml, auxiliary, mass\n",
    "from pyopenms import __version__ as pyopenms_version, IdXMLFile\n",
    "\n",
    "\n",
    "import ipywidgets as widgets\n",
    "from IPython.display import clear_output\n",
    "\n",
    "# Libraries versions.\n",
    "print(f\"Matplotlib version : {plt_version}\")\n",
    "try:\n",
    "    print(f\"Pyteomics version: {get_distribution('pyteomics').version}\")\n",
    "except:\n",
    "    print(\"Pyteomics version not found\")\n",
    "print(f\"PyOpenMS version: {pyopenms_version}\")"
   ]
  },
  {
   "cell_type": "markdown",
   "metadata": {},
   "source": [
    "## Parsing the mzML "
   ]
  },
  {
   "cell_type": "markdown",
   "metadata": {},
   "source": [
    "Choosing the file is done programmatically as the file upload may not work due to the size\n",
    "of the mzML files."
   ]
  },
  {
   "cell_type": "code",
   "execution_count": 2,
   "metadata": {},
   "outputs": [],
   "source": [
    "# Get the directory with the mass spectrometry files.\n",
    "DATA_DIR = Path(\"..\").resolve().joinpath(\"data/\")\n",
    "\n",
    "# mzML file.\n",
    "MZML_FILE = DATA_DIR.joinpath(\"Q1_5_truncated.mzML\")"
   ]
  },
  {
   "cell_type": "code",
   "execution_count": 3,
   "metadata": {},
   "outputs": [],
   "source": [
    "ms1_scans = []\n",
    "ms1_mz_arrays = []\n",
    "ms1_intensity_arrays = []\n",
    "ms1_retention_times = []\n",
    "\n",
    "ms2_scans = []\n",
    "ms2_mz_arrays = []\n",
    "ms2_intensity_arrays = []\n",
    "ms2_retention_times = []"
   ]
  },
  {
   "cell_type": "code",
   "execution_count": 4,
   "metadata": {},
   "outputs": [
    {
     "name": "stdout",
     "output_type": "stream",
     "text": [
      "File parsed. There are 1421 MS1 spectrums and 79 MS2 spectrums.\n"
     ]
    }
   ],
   "source": [
    "# Get the MS1 and MS2 spectra.\n",
    "with mzml.read(str(MZML_FILE)) as reader:\n",
    "    for spectrum in reader:\n",
    "        if spectrum[\"ms level\"] == 1:\n",
    "            ms1_scans.append(spectrum[\"id\"])\n",
    "            ms1_mz_arrays.append(spectrum[\"m/z array\"])\n",
    "            ms1_intensity_arrays.append(spectrum[\"intensity array\"])\n",
    "            ms1_retention_times.append(spectrum[\"scanList\"][\"scan\"][0][\"scan start time\"])\n",
    "        elif spectrum[\"ms level\"] == 2:\n",
    "            ms2_scans.append(spectrum[\"id\"])\n",
    "            ms2_mz_arrays.append(spectrum[\"m/z array\"])\n",
    "            ms2_intensity_arrays.append(spectrum[\"intensity array\"])\n",
    "            ms2_retention_times.append(spectrum[\"scanList\"][\"scan\"][0][\"scan start time\"])\n",
    "\n",
    "print(f\"File parsed. There are {len(ms1_scans)} MS1 spectrums and {len(ms2_scans)} MS2 spectrums.\")"
   ]
  },
  {
   "cell_type": "markdown",
   "metadata": {},
   "source": [
    "## Widget management"
   ]
  },
  {
   "cell_type": "code",
   "execution_count": 5,
   "metadata": {},
   "outputs": [],
   "source": [
    "# Interactive display of MS1 spectrum.\n",
    "file_box = widgets.Select(\n",
    "    options=ms1_retention_times,\n",
    "    # Writing Retention time is too long for the default label.\n",
    "    description='RT (minutes):',\n",
    "    disabled=False,\n",
    ")\n",
    "\n",
    "button = widgets.Button(description='Display MS1',\n",
    "                        button_style=\"info\")\n",
    "\n",
    "\n",
    "# Configuring the widgets interactions.\n",
    "\n",
    "out = widgets.Output()\n",
    "\n",
    "# Display the image when the button is clicked.  Is rather slow.\n",
    "def display_image(_):\n",
    "    with out:\n",
    "        clear_output()\n",
    "        # Supposes the retention time have same index as arrays.\n",
    "        spectrum_index = ms1_retention_times.index(file_box.value)\n",
    "        plt.figure()\n",
    "        # The width needs to be adjusted for some arrays with extreme peaks.\n",
    "        plt.bar(ms1_mz_arrays[spectrum_index], ms1_intensity_arrays[spectrum_index])\n",
    "        plt.xlabel(\"m/z\")\n",
    "        plt.ylabel(\"intensity\")\n",
    "        plt.title(f\"MS1 spectrum\")\n",
    "        plt.show()\n",
    "\n",
    "button.on_click(display_image)"
   ]
  },
  {
   "cell_type": "markdown",
   "metadata": {},
   "source": [
    "## Main widget"
   ]
  },
  {
   "cell_type": "code",
   "execution_count": 6,
   "metadata": {},
   "outputs": [
    {
     "data": {
      "application/vnd.jupyter.widget-view+json": {
       "model_id": "a341142e0efb4ac7ac1e2834fa88bb13",
       "version_major": 2,
       "version_minor": 0
      },
      "text/plain": [
       "VBox(children=(Select(description='RT (minutes):', options=(0.180339972, 0.66846006, 1.04408184, 1.42158498, 1…"
      ]
     },
     "metadata": {},
     "output_type": "display_data"
    }
   ],
   "source": [
    "# Main widget.\n",
    "box = widgets.VBox([file_box, button, out])\n",
    "box"
   ]
  },
  {
   "cell_type": "markdown",
   "metadata": {},
   "source": [
    "## Using pyOpenMS to parse the idXML"
   ]
  },
  {
   "cell_type": "code",
   "execution_count": 7,
   "metadata": {},
   "outputs": [],
   "source": [
    "# Get IdXML file in data/.\n",
    "IDXML_FILE = DATA_DIR.joinpath(\"1937004_Q1_5.idXML\")\n",
    "\n",
    "# Threshold of relative abundance for idXML hits.\n",
    "ISOTOPE_THRESHOLD = 5e-3"
   ]
  },
  {
   "cell_type": "code",
   "execution_count": 8,
   "metadata": {},
   "outputs": [],
   "source": [
    "# Load the file and get its content.\n",
    "protein_ids = []\n",
    "peptide_ids = []\n",
    "\n",
    "IdXMLFile().load(str(IDXML_FILE), protein_ids, peptide_ids)"
   ]
  },
  {
   "cell_type": "code",
   "execution_count": null,
   "metadata": {},
   "outputs": [],
   "source": []
  },
  {
   "cell_type": "code",
   "execution_count": 9,
   "metadata": {},
   "outputs": [
    {
     "name": "stdout",
     "output_type": "stream",
     "text": [
      "There are 31920 identifiers in the idXML\n",
      "There are 9 intersecting MS2 IDs\n"
     ]
    }
   ],
   "source": [
    "# Retrieve the identifiers connecting to the mzML.\n",
    "# Decode to go from binary to utf8.\n",
    "idxml_scans = [scan.getMetaValue(\"spectrum_reference\").decode() for scan in peptide_ids]\n",
    "print(f\"There are {len(idxml_scans)} identifiers in the idXML\")\n",
    "\n",
    "id_intersection = set(idxml_scans).intersection(set(ms2_scans))\n",
    "print(f\"There are {len(id_intersection)} intersecting MS2 IDs\")"
   ]
  },
  {
   "cell_type": "code",
   "execution_count": 10,
   "metadata": {},
   "outputs": [
    {
     "name": "stdout",
     "output_type": "stream",
     "text": [
      "RT of MS2 with peptides in the idXML: \n",
      "[362.73063, 362.804376, 363.02676, 363.1005, 363.326496, 363.401244, 363.475122, 364.050372, 379.877004]\n"
     ]
    }
   ],
   "source": [
    "# RT of MS2 with peptides found\n",
    "ms2_shared_retention_times = [scan.getRT() for scan in peptide_ids\n",
    " if scan.getMetaValue(\"spectrum_reference\").decode() in id_intersection]\n",
    "print(f\"RT of MS2 with peptides in the idXML: \\n{ms2_shared_retention_times}\")"
   ]
  },
  {
   "cell_type": "markdown",
   "metadata": {},
   "source": [
    "## Comparison between MS2 and peptide in IdXML"
   ]
  },
  {
   "cell_type": "code",
   "execution_count": 11,
   "metadata": {},
   "outputs": [],
   "source": [
    "# Interactive display of MS2 spectrum with the idXML comparison.\n",
    "# Only take MS2 for which peptides are found.\n",
    "ms2_RT_chooser = widgets.Select(\n",
    "    options=ms2_shared_retention_times,\n",
    "    description='RT (minutes):',\n",
    "    disabled=False,\n",
    ")\n",
    "\n",
    "comparison_button = widgets.Button(description='Display',\n",
    "                                   button_style=\"info\")\n",
    "\n",
    "\n",
    "# Configuring the widgets interactions.\n",
    "ms2_out = widgets.Output()\n",
    "\n",
    "# Display the image when the button is clicked.  Is rather slow.\n",
    "def display_comparison(_):\n",
    "    xlabel = \"m/z\"\n",
    "    with ms2_out:\n",
    "        clear_output()\n",
    "        # Supposes the retention time have same index as arrays.\n",
    "        spectrum_index = ms2_retention_times.index(ms2_RT_chooser.value)\n",
    "\n",
    "        # Find hits in the IdXML corresponding to the scan.\n",
    "        shared_scan = ms2_scans[spectrum_index]\n",
    "        scan_found = False\n",
    "        # Iterate over IdXML scans.\n",
    "        for idxml_index in range(len(idxml_scans)):\n",
    "            if idxml_scans[idxml_index] == shared_scan:\n",
    "                scan_found = True\n",
    "                # Take the first hit sequence found as a string.\n",
    "                hits = peptide_ids[idxml_index].getHits()\n",
    "                hit_seq = hits[0].getSequence().toString().decode()\n",
    "                hit_charge = hits[0].getCharge()\n",
    "                #print(f\"Found sequence {hit_seq}\")\n",
    "\n",
    "        # MS2 spectrum.\n",
    "        ms2 = plt.subplot(1,2,1)\n",
    "        plt.bar(ms2_mz_arrays[spectrum_index], ms2_intensity_arrays[spectrum_index])\n",
    "        plt.xlabel(\"m/z\")\n",
    "        plt.ylabel(\"intensity\")\n",
    "\n",
    "        # IdXML result.\n",
    "        if not scan_found:\n",
    "            hit_seq = \"\"\n",
    "            xlabel = \"Peptide not found\"\n",
    "\n",
    "        hit = plt.subplot(1,2,2)\n",
    "        isotopes = [isotope for isotope in mass.isotopologues(hit_seq,\n",
    "                                                              isotope_threshold=ISOTOPE_THRESHOLD)]\n",
    "\n",
    "        relative_abundances = [mass.isotopic_composition_abundance(isotope) for isotope in isotopes]\n",
    "        plt.bar([isotope.mass()/hit_charge for isotope in isotopes], relative_abundances)\n",
    "        plt.xlabel(xlabel)\n",
    "        plt.ylabel(\"Relative abundance\")\n",
    "        hit.yaxis.set_label_position(\"right\")\n",
    "        \n",
    "        plt.title(f\"Comparison between experimental and '{hit_seq}' spectrum\")\n",
    "        plt.show()\n",
    "\n",
    "comparison_button.on_click(display_comparison)"
   ]
  },
  {
   "cell_type": "code",
   "execution_count": 12,
   "metadata": {},
   "outputs": [
    {
     "data": {
      "application/vnd.jupyter.widget-view+json": {
       "model_id": "d4ae1d496fd04ce599244c7c9e95f2b1",
       "version_major": 2,
       "version_minor": 0
      },
      "text/plain": [
       "VBox(children=(Select(description='RT (minutes):', options=(362.73063, 362.804376, 363.02676, 363.1005, 363.32…"
      ]
     },
     "metadata": {},
     "output_type": "display_data"
    }
   ],
   "source": [
    "# Main widget.\n",
    "comparison_box = widgets.VBox([ms2_RT_chooser, comparison_button, ms2_out])\n",
    "comparison_box"
   ]
  },
  {
   "cell_type": "code",
   "execution_count": null,
   "metadata": {},
   "outputs": [],
   "source": []
  },
  {
   "cell_type": "markdown",
   "metadata": {
    "scrolled": true
   },
   "source": [
    "## Storing a smaller mzML"
   ]
  },
  {
   "cell_type": "code",
   "execution_count": 13,
   "metadata": {},
   "outputs": [],
   "source": [
    "from pyopenms import MzMLFile, MSExperiment"
   ]
  },
  {
   "cell_type": "code",
   "execution_count": 14,
   "metadata": {},
   "outputs": [
    {
     "data": {
      "text/plain": [
       "'\\n# Get the mzml file.\\nDATA_DIR = Path(\"..\").resolve().joinpath(\"data/\")\\n\\nmzml_file = DATA_DIR.joinpath(\"1937004_Q1_5.mzML\")\\n\\n# Get IdXML file\\nidxml_file = DATA_DIR.joinpath(\"1937004_Q1_5.idXML\")\\n\\n# Storing the MzML content\\nexp = MSExperiment()\\nMzMLFile().load(str(mzml_file), exp)\\n\\nspectrums = []\\nmax_spectrum = 1500\\n\\ne = MSExperiment()\\n\\nfor i, spec in enumerate(exp):\\n    if i >= max_spectrum:\\n        break\\n    else:\\n        e.addSpectrum(spec)\\n\\nMzMLFile().store(\"smaller.mzML\", e)\\n'"
      ]
     },
     "execution_count": 14,
     "metadata": {},
     "output_type": "execute_result"
    }
   ],
   "source": [
    "\"\"\"\n",
    "# Get the mzml file.\n",
    "DATA_DIR = Path(\"..\").resolve().joinpath(\"data/\")\n",
    "\n",
    "mzml_file = DATA_DIR.joinpath(\"1937004_Q1_5.mzML\")\n",
    "\n",
    "# Get IdXML file\n",
    "idxml_file = DATA_DIR.joinpath(\"1937004_Q1_5.idXML\")\n",
    "\n",
    "# Storing the MzML content\n",
    "exp = MSExperiment()\n",
    "MzMLFile().load(str(mzml_file), exp)\n",
    "\n",
    "spectrums = []\n",
    "max_spectrum = 1500\n",
    "\n",
    "e = MSExperiment()\n",
    "\n",
    "for i, spec in enumerate(exp):\n",
    "    if i >= max_spectrum:\n",
    "        break\n",
    "    else:\n",
    "        e.addSpectrum(spec)\n",
    "\n",
    "MzMLFile().store(\"smaller.mzML\", e)\n",
    "\"\"\""
   ]
  },
  {
   "cell_type": "code",
   "execution_count": null,
   "metadata": {},
   "outputs": [],
   "source": []
  },
  {
   "cell_type": "markdown",
   "metadata": {},
   "source": [
    "## Append data to a HDF5"
   ]
  },
  {
   "cell_type": "code",
   "execution_count": 15,
   "metadata": {},
   "outputs": [],
   "source": [
    "import pandas as pd  # The pytables dependency is needed\n",
    "# from collections import defaultdict\n",
    "import numpy as np"
   ]
  },
  {
   "cell_type": "code",
   "execution_count": null,
   "metadata": {},
   "outputs": [],
   "source": []
  },
  {
   "cell_type": "code",
   "execution_count": null,
   "metadata": {},
   "outputs": [],
   "source": [
    "# Convert values to HDF5.  Beware if HDF5 already exists\n",
    "MS1_values = []\n",
    "store = pd.HDFStore('store.h5')\n",
    "chunk_size = 2000\n",
    "\n",
    "# Supposes intensities and mz have same order.  Iterate over RT.\n",
    "for i in range(len(ms1_retention_times)):\n",
    "    # Dict of mz:intensity for MS1 at each recorded RT.  The mz is rounded to avoid too many mz.\n",
    "    MS1_values.append({round(mz):intensity for mz, intensity in zip(ms1_mz_arrays[i],\n",
    "                                                                    ms1_intensity_arrays[i])})\n",
    "\n",
    "    # Dump information in the hdf5 every 2000 elements.\n",
    "    # HDF5 also has a size limit for the header (column number).\n",
    "    if i % chunk_size == 0:\n",
    "        df = pd.DataFrame(MS1_values, index=ms1_retention_times[:i], columns=range(300, 1700, 1))\n",
    "        # Replace Nan by 0.\n",
    "        df.fillna(0, inplace=True)\n",
    "        store.append(\"df\", df)\n",
    "        MS1_values = []\n",
    "        # Temporary break.\n",
    "        if i >= chunk_size:\n",
    "            break\n",
    "            \n",
    "print(\"HDF5 finished\")"
   ]
  },
  {
   "cell_type": "code",
   "execution_count": null,
   "metadata": {},
   "outputs": [],
   "source": [
    "store.get('df')"
   ]
  },
  {
   "cell_type": "code",
   "execution_count": null,
   "metadata": {
    "scrolled": true
   },
   "outputs": [],
   "source": [
    "import vaex\n",
    "print(vaex.__version__)"
   ]
  },
  {
   "cell_type": "code",
   "execution_count": null,
   "metadata": {},
   "outputs": [],
   "source": [
    "df = vaex.open(\"store.h5\")"
   ]
  },
  {
   "cell_type": "code",
   "execution_count": null,
   "metadata": {},
   "outputs": [],
   "source": []
  }
 ],
 "metadata": {
  "kernelspec": {
   "display_name": "Python 3",
   "language": "python",
   "name": "python3"
  },
  "language_info": {
   "codemirror_mode": {
    "name": "ipython",
    "version": 3
   },
   "file_extension": ".py",
   "mimetype": "text/x-python",
   "name": "python",
   "nbconvert_exporter": "python",
   "pygments_lexer": "ipython3",
   "version": "3.7.6"
  }
 },
 "nbformat": 4,
 "nbformat_minor": 2
}

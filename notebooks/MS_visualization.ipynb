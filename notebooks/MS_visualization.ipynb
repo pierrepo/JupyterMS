{
 "cells": [
  {
   "cell_type": "markdown",
   "metadata": {},
   "source": [
    "# Visualization of MS spectrum"
   ]
  },
  {
   "cell_type": "code",
   "execution_count": 1,
   "metadata": {},
   "outputs": [
    {
     "name": "stdout",
     "output_type": "stream",
     "text": [
      "Matplotlib version : 3.1.1\n",
      "pyteomics version: 4.1.2\n"
     ]
    }
   ],
   "source": [
    "%matplotlib inline\n",
    "\n",
    "from pathlib import Path\n",
    "\n",
    "from matplotlib import pyplot as plt,__version__ as plt_version\n",
    "from pkg_resources import get_distribution  # Comes with setuptools.\n",
    "from pyteomics import mzml, auxiliary\n",
    "\n",
    "import ipywidgets as widgets\n",
    "from IPython.display import clear_output\n",
    "\n",
    "print(f\"Matplotlib version : {plt_version}\")\n",
    "try:\n",
    "    print(f\"pyteomics version: {get_distribution('pyteomics').version}\")\n",
    "except:\n",
    "    print(\"pyteomics version not found\")"
   ]
  },
  {
   "cell_type": "markdown",
   "metadata": {},
   "source": [
    "Choosing the file is done programmatically as the file upload may not work due to the size\n",
    "of the mzML files."
   ]
  },
  {
   "cell_type": "code",
   "execution_count": 2,
   "metadata": {},
   "outputs": [],
   "source": [
    "# Get the mzml file.\n",
    "DATA_DIR = Path(\"..\").resolve().joinpath(\"data/\")\n",
    "\n",
    "mzml_file = DATA_DIR.joinpath(\"1937004_Q1_5.mzML\")"
   ]
  },
  {
   "cell_type": "code",
   "execution_count": 3,
   "metadata": {},
   "outputs": [],
   "source": [
    "scans = []\n",
    "mz_arrays = []\n",
    "intensity_arrays = []\n",
    "retention_times = []"
   ]
  },
  {
   "cell_type": "code",
   "execution_count": 4,
   "metadata": {},
   "outputs": [],
   "source": [
    "# Get the MS1 spectra.\n",
    "with mzml.read(str(mzml_file)) as reader:\n",
    "    for spectrum in reader:\n",
    "        if spectrum[\"ms level\"] == 1:\n",
    "            scans.append(spectrum[\"id\"])\n",
    "            mz_arrays.append(spectrum[\"m/z array\"])\n",
    "            intensity_arrays.append(spectrum[\"intensity array\"])\n",
    "            retention_times.append(spectrum[\"scanList\"][\"scan\"][0][\"scan start time\"])\n",
    "            "
   ]
  },
  {
   "cell_type": "code",
   "execution_count": 5,
   "metadata": {},
   "outputs": [],
   "source": [
    "# Widget management.\n",
    "file_box = widgets.Select(\n",
    "    options=retention_times,\n",
    "    # Writing Retention time is too long for the default label.\n",
    "    description='RT (minutes):',\n",
    "    disabled=False,\n",
    ")\n",
    "\n",
    "button = widgets.Button(description='Display',\n",
    "                        button_style=\"info\")\n",
    "\n",
    "\n",
    "# Configuring the widgets interactions.\n",
    "\n",
    "out = widgets.Output()\n",
    "\n",
    "# Display the image when the button is clicked.  Is rather slow.\n",
    "def display_image(_):\n",
    "    with out:\n",
    "        clear_output()\n",
    "        # Supposes the retention time have same index as arrays.\n",
    "        spectrum_index = retention_times.index(file_box.value)\n",
    "        # The width needs to be adjusted for some arrays with extreme peaks.\n",
    "        plt.bar(mz_arrays[spectrum_index], intensity_arrays[spectrum_index])\n",
    "        plt.xlabel(\"m/z\")\n",
    "        plt.ylabel(\"intensity\")\n",
    "        plt.show()\n",
    "\n",
    "button.on_click(display_image)"
   ]
  },
  {
   "cell_type": "code",
   "execution_count": 6,
   "metadata": {},
   "outputs": [
    {
     "data": {
      "application/vnd.jupyter.widget-view+json": {
       "model_id": "080ef765b47647398e2f40be3b62ae45",
       "version_major": 2,
       "version_minor": 0
      },
      "text/plain": [
       "VBox(children=(Select(description='RT (minutes):', options=(0.0030056662, 0.011141001, 0.017401364, 0.02369308…"
      ]
     },
     "metadata": {},
     "output_type": "display_data"
    }
   ],
   "source": [
    "# Main widget.\n",
    "box = widgets.VBox([file_box, button, out])\n",
    "box"
   ]
  },
  {
   "cell_type": "markdown",
   "metadata": {},
   "source": [
    "## Open a MzML with pyopenMS"
   ]
  },
  {
   "cell_type": "code",
   "execution_count": 7,
   "metadata": {},
   "outputs": [
    {
     "name": "stdout",
     "output_type": "stream",
     "text": [
      "2.4.0\n"
     ]
    }
   ],
   "source": [
    "from pyopenms import __version__ as pyopenms_version, MzMLFile, MSExperiment, IdXMLFile\n",
    "print(pyopenms_version)"
   ]
  },
  {
   "cell_type": "code",
   "execution_count": 8,
   "metadata": {},
   "outputs": [],
   "source": [
    "# Storing the MzML content\n",
    "exp = MSExperiment()\n",
    "MzMLFile().load(str(mzml_file), exp)"
   ]
  },
  {
   "cell_type": "code",
   "execution_count": 9,
   "metadata": {},
   "outputs": [
    {
     "data": {
      "text/plain": [
       "'\\nspectrums = []\\nfor spec in exp.getSpectra():\\n    if spec.getMSLevel() == 1:\\n        spectrums.append(spec)\\nprint(len(spectrums))\\n'"
      ]
     },
     "execution_count": 9,
     "metadata": {},
     "output_type": "execute_result"
    }
   ],
   "source": [
    "# The parsing is too slow.\n",
    "\"\"\"\n",
    "spectrums = []\n",
    "for spec in exp.getSpectra():\n",
    "    if spec.getMSLevel() == 1:\n",
    "        spectrums.append(spec)\n",
    "print(len(spectrums))\n",
    "\"\"\""
   ]
  },
  {
   "cell_type": "markdown",
   "metadata": {},
   "source": [
    "## Try using pyopenMS to parse the idXML"
   ]
  },
  {
   "cell_type": "code",
   "execution_count": 10,
   "metadata": {},
   "outputs": [],
   "source": [
    "idxml_file = DATA_DIR.joinpath(\"1937004_Q1_5.idXML\")"
   ]
  },
  {
   "cell_type": "code",
   "execution_count": 11,
   "metadata": {},
   "outputs": [],
   "source": [
    "from pyopenms import IdXMLFile"
   ]
  },
  {
   "cell_type": "code",
   "execution_count": 12,
   "metadata": {},
   "outputs": [],
   "source": [
    "protein_ids = []\n",
    "peptide_ids = []\n",
    "\n",
    "IdXMLFile().load(str(idxml_file), protein_ids, peptide_ids)"
   ]
  },
  {
   "cell_type": "code",
   "execution_count": null,
   "metadata": {},
   "outputs": [],
   "source": []
  },
  {
   "cell_type": "code",
   "execution_count": 13,
   "metadata": {},
   "outputs": [
    {
     "name": "stdout",
     "output_type": "stream",
     "text": [
      "31920\n"
     ]
    }
   ],
   "source": [
    "pep_ids = list(peptide_ids)\n",
    "print(len(pep_ids))"
   ]
  },
  {
   "cell_type": "code",
   "execution_count": 14,
   "metadata": {},
   "outputs": [
    {
     "name": "stdout",
     "output_type": "stream",
     "text": [
      "415.205402217913\n",
      "b'controllerType=0 controllerNumber=1 scan=1008'\n"
     ]
    }
   ],
   "source": [
    "print(pep_ids[0].getMZ())\n",
    "print(pep_ids[0].getMetaValue(\"spectrum_reference\"))"
   ]
  },
  {
   "cell_type": "code",
   "execution_count": 15,
   "metadata": {},
   "outputs": [
    {
     "name": "stdout",
     "output_type": "stream",
     "text": [
      " - Peptide hit rank: 0\n",
      " - Peptide hit sequence: b'VQPEDNK'\n",
      " - Peptide hit score: 0.8249030113220215\n"
     ]
    }
   ],
   "source": [
    "for hit in pep_ids[0].getHits():\n",
    "    print(\" - Peptide hit rank:\", hit.getRank())\n",
    "    print(\" - Peptide hit sequence:\", hit.getSequence().toString())\n",
    "    print(\" - Peptide hit score:\", hit.getScore())"
   ]
  },
  {
   "cell_type": "code",
   "execution_count": null,
   "metadata": {},
   "outputs": [],
   "source": []
  },
  {
   "cell_type": "code",
   "execution_count": 16,
   "metadata": {},
   "outputs": [
    {
     "name": "stdout",
     "output_type": "stream",
     "text": [
      "31920\n"
     ]
    }
   ],
   "source": [
    "idxml_scans = [scan.getMetaValue(\"spectrum_reference\").decode() for scan in pep_ids]\n",
    "print(len(idxml_scans))"
   ]
  },
  {
   "cell_type": "code",
   "execution_count": 17,
   "metadata": {},
   "outputs": [
    {
     "name": "stdout",
     "output_type": "stream",
     "text": [
      "controllerType=0 controllerNumber=1 scan=1\n",
      "controllerType=0 controllerNumber=1 scan=1008\n"
     ]
    }
   ],
   "source": [
    "# mzml scan values vs idxml\n",
    "print(scans[0])\n",
    "print(pep_ids[0].getMetaValue(\"spectrum_reference\").decode())  # Decode to go from binary to utf8"
   ]
  },
  {
   "cell_type": "markdown",
   "metadata": {},
   "source": [
    "## Take both MS1 and MS2"
   ]
  },
  {
   "cell_type": "code",
   "execution_count": null,
   "metadata": {},
   "outputs": [],
   "source": [
    "ms1_scans = []\n",
    "ms1_mz_arrays = []\n",
    "ms1_intensity_arrays = []\n",
    "ms1_retention_times = []\n",
    "\n",
    "ms2_scans = []\n",
    "ms2_mz_arrays = []\n",
    "ms2_intensity_arrays = []\n",
    "ms2_retention_times = []\n",
    "\n",
    "with mzml.read(str(mzml_file)) as reader:\n",
    "    for spectrum in reader:\n",
    "        if spectrum[\"ms level\"] == 1:\n",
    "            ms1_scans.append(spectrum[\"id\"])\n",
    "            ms1_mz_arrays.append(spectrum[\"m/z array\"])\n",
    "            ms1_intensity_arrays.append(spectrum[\"intensity array\"])\n",
    "            ms1_retention_times.append(spectrum[\"scanList\"][\"scan\"][0][\"scan start time\"])\n",
    "        elif spectrum[\"ms level\"] == 2:\n",
    "            ms2_scans.append(spectrum[\"id\"])\n",
    "            ms2_mz_arrays.append(spectrum[\"m/z array\"])\n",
    "            ms2_intensity_arrays.append(spectrum[\"intensity array\"])\n",
    "            ms2_retention_times.append(spectrum[\"scanList\"][\"scan\"][0][\"scan start time\"])\n"
   ]
  },
  {
   "cell_type": "code",
   "execution_count": null,
   "metadata": {},
   "outputs": [],
   "source": [
    "print(len(ms1_scans) + len(ms2_scans))"
   ]
  },
  {
   "cell_type": "code",
   "execution_count": null,
   "metadata": {},
   "outputs": [],
   "source": [
    "idxml_scans = [scan.getMetaValue(\"spectrum_reference\").decode() for scan in pep_ids]\n",
    "print(len(idxml_scans))"
   ]
  },
  {
   "cell_type": "code",
   "execution_count": null,
   "metadata": {},
   "outputs": [],
   "source": [
    "[elem for elem in dir(pep_ids[0]) if not elem.startswith(\"_\")]"
   ]
  },
  {
   "cell_type": "code",
   "execution_count": null,
   "metadata": {},
   "outputs": [],
   "source": []
  },
  {
   "cell_type": "code",
   "execution_count": null,
   "metadata": {},
   "outputs": [],
   "source": [
    "idxml_scans[:5]"
   ]
  },
  {
   "cell_type": "code",
   "execution_count": null,
   "metadata": {},
   "outputs": [],
   "source": []
  },
  {
   "cell_type": "code",
   "execution_count": null,
   "metadata": {},
   "outputs": [],
   "source": [
    "spectrum_index = ms2_retention_times.index(ms2_retention_times[0])\n",
    "# The width needs to be adjusted for some arrays with extreme peaks.\n",
    "plt.bar(ms2_mz_arrays[spectrum_index], ms2_intensity_arrays[spectrum_index])\n",
    "plt.xlabel(\"m/z\")\n",
    "plt.ylabel(\"intensity\")\n",
    "plt.show()"
   ]
  },
  {
   "cell_type": "code",
   "execution_count": null,
   "metadata": {
    "scrolled": true
   },
   "outputs": [],
   "source": []
  }
 ],
 "metadata": {
  "kernelspec": {
   "display_name": "Python 3",
   "language": "python",
   "name": "python3"
  },
  "language_info": {
   "codemirror_mode": {
    "name": "ipython",
    "version": 3
   },
   "file_extension": ".py",
   "mimetype": "text/x-python",
   "name": "python",
   "nbconvert_exporter": "python",
   "pygments_lexer": "ipython3",
   "version": "3.7.5"
  }
 },
 "nbformat": 4,
 "nbformat_minor": 2
}

{
 "cells": [
  {
   "cell_type": "markdown",
   "metadata": {},
   "source": [
    "# Visualization of MS spectrum"
   ]
  },
  {
   "cell_type": "code",
   "execution_count": 1,
   "metadata": {},
   "outputs": [
    {
     "name": "stdout",
     "output_type": "stream",
     "text": [
      "Matplotlib version : 3.1.1\n",
      "pyteomics version: 4.1.2\n"
     ]
    }
   ],
   "source": [
    "%matplotlib inline\n",
    "\n",
    "from pathlib import Path\n",
    "\n",
    "from matplotlib import pyplot as plt,__version__ as plt_version\n",
    "from pkg_resources import get_distribution  # Comes with setuptools.\n",
    "from pyteomics import mzml, auxiliary\n",
    "\n",
    "import ipywidgets as widgets\n",
    "from IPython.display import clear_output\n",
    "\n",
    "print(f\"Matplotlib version : {plt_version}\")\n",
    "try:\n",
    "    print(f\"pyteomics version: {get_distribution('pyteomics').version}\")\n",
    "except:\n",
    "    print(\"pyteomics version not found\")"
   ]
  },
  {
   "cell_type": "markdown",
   "metadata": {},
   "source": [
    "Choosing the file is done programmatically as the file upload may not work due to the size\n",
    "of the mzML files."
   ]
  },
  {
   "cell_type": "code",
   "execution_count": 2,
   "metadata": {},
   "outputs": [],
   "source": [
    "# Get the mzml file.\n",
    "DATA_DIR = Path(\"..\").resolve().joinpath(\"data/\")\n",
    "\n",
    "mzml_file = DATA_DIR.joinpath(\"1937003-Q1.mzML\")"
   ]
  },
  {
   "cell_type": "code",
   "execution_count": 3,
   "metadata": {},
   "outputs": [],
   "source": [
    "scans = []\n",
    "mz_arrays = []\n",
    "intensity_arrays = []\n",
    "retention_times = []"
   ]
  },
  {
   "cell_type": "code",
   "execution_count": null,
   "metadata": {},
   "outputs": [],
   "source": [
    "# Get the MS1 spectra.\n",
    "with mzml.read(str(mzml_file)) as reader:\n",
    "    for spectrum in reader:\n",
    "        if spectrum[\"ms level\"] == 1:\n",
    "            scans.append(spectrum[\"id\"])\n",
    "            mz_arrays.append(spectrum[\"m/z array\"])\n",
    "            intensity_arrays.append(spectrum[\"intensity array\"])\n",
    "            retention_times.append(spectrum[\"scanList\"][\"scan\"][0][\"scan start time\"])"
   ]
  },
  {
   "cell_type": "code",
   "execution_count": null,
   "metadata": {},
   "outputs": [],
   "source": [
    "# Widget management.\n",
    "file_box = widgets.Select(\n",
    "    options=retention_times,\n",
    "    # Writing Retention time is too long for the default label.\n",
    "    description='RT (minutes):',\n",
    "    disabled=False,\n",
    ")\n",
    "\n",
    "button = widgets.Button(description='Display',\n",
    "                        button_style=\"info\")\n",
    "\n",
    "\n",
    "# Configuring the widgets interactions.\n",
    "\n",
    "out = widgets.Output()\n",
    "\n",
    "# Display the image when the button is clicked.  Is rather slow.\n",
    "def display_image(_):\n",
    "    with out:\n",
    "        clear_output()\n",
    "        # Supposes the retention time have same index as arrays.\n",
    "        spectrum_index = retention_times.index(file_box.value)\n",
    "        # The width needs to be adjusted for some arrays with extreme peaks.\n",
    "        plt.bar(mz_arrays[spectrum_index], intensity_arrays[spectrum_index])\n",
    "        plt.xlabel(\"m/z\")\n",
    "        plt.ylabel(\"intensity\")\n",
    "        plt.show()\n",
    "\n",
    "button.on_click(display_image)"
   ]
  },
  {
   "cell_type": "code",
   "execution_count": null,
   "metadata": {},
   "outputs": [],
   "source": [
    "# Main widget.\n",
    "box = widgets.VBox([file_box, button, out])\n",
    "box"
   ]
  }
 ],
 "metadata": {
  "kernelspec": {
   "display_name": "Python 3",
   "language": "python",
   "name": "python3"
  },
  "language_info": {
   "codemirror_mode": {
    "name": "ipython",
    "version": 3
   },
   "file_extension": ".py",
   "mimetype": "text/x-python",
   "name": "python",
   "nbconvert_exporter": "python",
   "pygments_lexer": "ipython3",
   "version": "3.7.5"
  }
 },
 "nbformat": 4,
 "nbformat_minor": 2
}

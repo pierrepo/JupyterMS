{
 "cells": [
  {
   "cell_type": "markdown",
   "metadata": {},
   "source": [
    "# Visualization of MS spectrum"
   ]
  },
  {
   "cell_type": "code",
   "execution_count": 1,
   "metadata": {},
   "outputs": [
    {
     "name": "stdout",
     "output_type": "stream",
     "text": [
      "Matplotlib version : 3.1.1\n",
      "pyteomics version: 4.1.2\n"
     ]
    }
   ],
   "source": [
    "%matplotlib inline\n",
    "\n",
    "from pathlib import Path\n",
    "\n",
    "from matplotlib import pyplot as plt,__version__ as plt_version\n",
    "from pkg_resources import get_distribution  # Comes with setuptools.\n",
    "from pyteomics import mzml, auxiliary, mass\n",
    "\n",
    "import ipywidgets as widgets\n",
    "from IPython.display import clear_output\n",
    "\n",
    "print(f\"Matplotlib version : {plt_version}\")\n",
    "try:\n",
    "    print(f\"pyteomics version: {get_distribution('pyteomics').version}\")\n",
    "except:\n",
    "    print(\"pyteomics version not found\")"
   ]
  },
  {
   "cell_type": "markdown",
   "metadata": {},
   "source": [
    "Choosing the file is done programmatically as the file upload may not work due to the size\n",
    "of the mzML files."
   ]
  },
  {
   "cell_type": "code",
   "execution_count": 2,
   "metadata": {},
   "outputs": [],
   "source": [
    "# Get the mzml file.\n",
    "DATA_DIR = Path(\"..\").resolve().joinpath(\"data/\")\n",
    "\n",
    "mzml_file = DATA_DIR.joinpath(\"1937004_Q1_5.mzML\")"
   ]
  },
  {
   "cell_type": "code",
   "execution_count": 3,
   "metadata": {},
   "outputs": [],
   "source": [
    "scans = []\n",
    "mz_arrays = []\n",
    "intensity_arrays = []\n",
    "retention_times = []"
   ]
  },
  {
   "cell_type": "code",
   "execution_count": 4,
   "metadata": {},
   "outputs": [],
   "source": [
    "# Get the MS1 spectra.\n",
    "with mzml.read(str(mzml_file)) as reader:\n",
    "    for spectrum in reader:\n",
    "        if spectrum[\"ms level\"] == 1:\n",
    "            scans.append(spectrum[\"id\"])\n",
    "            mz_arrays.append(spectrum[\"m/z array\"])\n",
    "            intensity_arrays.append(spectrum[\"intensity array\"])\n",
    "            retention_times.append(spectrum[\"scanList\"][\"scan\"][0][\"scan start time\"])\n",
    "            "
   ]
  },
  {
   "cell_type": "code",
   "execution_count": 5,
   "metadata": {},
   "outputs": [],
   "source": [
    "# Widget management.\n",
    "file_box = widgets.Select(\n",
    "    options=retention_times,\n",
    "    # Writing Retention time is too long for the default label.\n",
    "    description='RT (minutes):',\n",
    "    disabled=False,\n",
    ")\n",
    "\n",
    "button = widgets.Button(description='Display',\n",
    "                        button_style=\"info\")\n",
    "\n",
    "\n",
    "# Configuring the widgets interactions.\n",
    "\n",
    "out = widgets.Output()\n",
    "\n",
    "# Display the image when the button is clicked.  Is rather slow.\n",
    "def display_image(_):\n",
    "    with out:\n",
    "        clear_output()\n",
    "        # Supposes the retention time have same index as arrays.\n",
    "        spectrum_index = retention_times.index(file_box.value)\n",
    "        # The width needs to be adjusted for some arrays with extreme peaks.\n",
    "        plt.bar(mz_arrays[spectrum_index], intensity_arrays[spectrum_index])\n",
    "        plt.xlabel(\"m/z\")\n",
    "        plt.ylabel(\"intensity\")\n",
    "        plt.show()\n",
    "\n",
    "button.on_click(display_image)"
   ]
  },
  {
   "cell_type": "code",
   "execution_count": 6,
   "metadata": {},
   "outputs": [
    {
     "data": {
      "application/vnd.jupyter.widget-view+json": {
       "model_id": "3a5f0c3bc41243d68f9d1911a40da4df",
       "version_major": 2,
       "version_minor": 0
      },
      "text/plain": [
       "VBox(children=(Select(description='RT (minutes):', options=(0.0030056662, 0.011141001, 0.017401364, 0.02369308…"
      ]
     },
     "metadata": {},
     "output_type": "display_data"
    }
   ],
   "source": [
    "# Main widget.\n",
    "box = widgets.VBox([file_box, button, out])\n",
    "box"
   ]
  },
  {
   "cell_type": "markdown",
   "metadata": {},
   "source": [
    "## Open a MzML with pyopenMS"
   ]
  },
  {
   "cell_type": "code",
   "execution_count": 7,
   "metadata": {},
   "outputs": [
    {
     "name": "stdout",
     "output_type": "stream",
     "text": [
      "2.4.0\n"
     ]
    }
   ],
   "source": [
    "from pyopenms import __version__ as pyopenms_version, MzMLFile, MSExperiment, IdXMLFile\n",
    "print(pyopenms_version)"
   ]
  },
  {
   "cell_type": "code",
   "execution_count": 8,
   "metadata": {},
   "outputs": [],
   "source": [
    "# Storing the MzML content\n",
    "exp = MSExperiment()\n",
    "MzMLFile().load(str(mzml_file), exp)"
   ]
  },
  {
   "cell_type": "code",
   "execution_count": 9,
   "metadata": {},
   "outputs": [
    {
     "data": {
      "text/plain": [
       "'\\nspectrums = []\\nfor spec in exp.getSpectra():\\n    if spec.getMSLevel() == 1:\\n        spectrums.append(spec)\\nprint(len(spectrums))\\n'"
      ]
     },
     "execution_count": 9,
     "metadata": {},
     "output_type": "execute_result"
    }
   ],
   "source": [
    "# The parsing is too slow.\n",
    "\"\"\"\n",
    "spectrums = []\n",
    "for spec in exp.getSpectra():\n",
    "    if spec.getMSLevel() == 1:\n",
    "        spectrums.append(spec)\n",
    "print(len(spectrums))\n",
    "\"\"\""
   ]
  },
  {
   "cell_type": "markdown",
   "metadata": {},
   "source": [
    "## Try using pyopenMS to parse the idXML"
   ]
  },
  {
   "cell_type": "code",
   "execution_count": 10,
   "metadata": {},
   "outputs": [],
   "source": [
    "idxml_file = DATA_DIR.joinpath(\"1937004_Q1_5.idXML\")"
   ]
  },
  {
   "cell_type": "code",
   "execution_count": 11,
   "metadata": {},
   "outputs": [],
   "source": [
    "from pyopenms import IdXMLFile"
   ]
  },
  {
   "cell_type": "code",
   "execution_count": 12,
   "metadata": {},
   "outputs": [],
   "source": [
    "protein_ids = []\n",
    "peptide_ids = []\n",
    "\n",
    "IdXMLFile().load(str(idxml_file), protein_ids, peptide_ids)"
   ]
  },
  {
   "cell_type": "code",
   "execution_count": null,
   "metadata": {},
   "outputs": [],
   "source": []
  },
  {
   "cell_type": "code",
   "execution_count": 13,
   "metadata": {},
   "outputs": [
    {
     "name": "stdout",
     "output_type": "stream",
     "text": [
      "31920\n",
      "415.205402217913\n",
      "b'controllerType=0 controllerNumber=1 scan=1008'\n"
     ]
    }
   ],
   "source": [
    "pep_ids = list(peptide_ids)\n",
    "print(len(pep_ids))\n",
    "print(pep_ids[0].getMZ())\n",
    "print(pep_ids[0].getMetaValue(\"spectrum_reference\"))"
   ]
  },
  {
   "cell_type": "code",
   "execution_count": 14,
   "metadata": {},
   "outputs": [
    {
     "name": "stdout",
     "output_type": "stream",
     "text": [
      " - Peptide hit rank: 0\n",
      " - Peptide hit sequence: b'VQPEDNK'\n",
      " - Peptide hit score: 0.8249030113220215\n"
     ]
    }
   ],
   "source": [
    "for hit in pep_ids[0].getHits():\n",
    "    print(\" - Peptide hit rank:\", hit.getRank())\n",
    "    print(\" - Peptide hit sequence:\", hit.getSequence().toString())\n",
    "    print(\" - Peptide hit score:\", hit.getScore())"
   ]
  },
  {
   "cell_type": "code",
   "execution_count": 15,
   "metadata": {},
   "outputs": [
    {
     "name": "stdout",
     "output_type": "stream",
     "text": [
      "controllerType=0 controllerNumber=1 scan=1\n",
      "controllerType=0 controllerNumber=1 scan=1008\n"
     ]
    }
   ],
   "source": [
    "# mzml scan values vs idxml\n",
    "print(scans[0])\n",
    "print(pep_ids[0].getMetaValue(\"spectrum_reference\").decode())  # Decode to go from binary to utf8"
   ]
  },
  {
   "cell_type": "markdown",
   "metadata": {},
   "source": [
    "## Take both MS1 and MS2"
   ]
  },
  {
   "cell_type": "code",
   "execution_count": 16,
   "metadata": {},
   "outputs": [],
   "source": [
    "ms1_scans = []\n",
    "ms1_mz_arrays = []\n",
    "ms1_intensity_arrays = []\n",
    "ms1_retention_times = []\n",
    "\n",
    "ms2_scans = []\n",
    "ms2_mz_arrays = []\n",
    "ms2_intensity_arrays = []\n",
    "ms2_retention_times = []\n",
    "\n",
    "with mzml.read(str(mzml_file)) as reader:\n",
    "    for spectrum in reader:\n",
    "        if spectrum[\"ms level\"] == 1:\n",
    "            ms1_scans.append(spectrum[\"id\"])\n",
    "            ms1_mz_arrays.append(spectrum[\"m/z array\"])\n",
    "            ms1_intensity_arrays.append(spectrum[\"intensity array\"])\n",
    "            ms1_retention_times.append(spectrum[\"scanList\"][\"scan\"][0][\"scan start time\"])\n",
    "        elif spectrum[\"ms level\"] == 2:\n",
    "            ms2_scans.append(spectrum[\"id\"])\n",
    "            ms2_mz_arrays.append(spectrum[\"m/z array\"])\n",
    "            ms2_intensity_arrays.append(spectrum[\"intensity array\"])\n",
    "            ms2_retention_times.append(spectrum[\"scanList\"][\"scan\"][0][\"scan start time\"])\n"
   ]
  },
  {
   "cell_type": "code",
   "execution_count": 17,
   "metadata": {},
   "outputs": [
    {
     "name": "stdout",
     "output_type": "stream",
     "text": [
      "59052\n"
     ]
    }
   ],
   "source": [
    "print(len(ms1_scans) + len(ms2_scans))"
   ]
  },
  {
   "cell_type": "code",
   "execution_count": 18,
   "metadata": {},
   "outputs": [
    {
     "name": "stdout",
     "output_type": "stream",
     "text": [
      "31920\n"
     ]
    }
   ],
   "source": [
    "idxml_scans = [scan.getMetaValue(\"spectrum_reference\").decode() for scan in pep_ids]\n",
    "print(len(idxml_scans))"
   ]
  },
  {
   "cell_type": "code",
   "execution_count": 19,
   "metadata": {},
   "outputs": [
    {
     "data": {
      "text/plain": [
       "['assignRanks',\n",
       " 'clearMetaInfo',\n",
       " 'empty',\n",
       " 'getBaseName',\n",
       " 'getExperimentLabel',\n",
       " 'getHits',\n",
       " 'getIdentifier',\n",
       " 'getKeys',\n",
       " 'getKeysAsIntegers',\n",
       " 'getMZ',\n",
       " 'getMetaValue',\n",
       " 'getRT',\n",
       " 'getReferencingHits',\n",
       " 'getScoreType',\n",
       " 'getSignificanceThreshold',\n",
       " 'hasMZ',\n",
       " 'hasRT',\n",
       " 'insertHit',\n",
       " 'isHigherScoreBetter',\n",
       " 'isMetaEmpty',\n",
       " 'metaRegistry',\n",
       " 'metaValueExists',\n",
       " 'removeMetaValue',\n",
       " 'setBaseName',\n",
       " 'setExperimentLabel',\n",
       " 'setHigherScoreBetter',\n",
       " 'setHits',\n",
       " 'setIdentifier',\n",
       " 'setMZ',\n",
       " 'setMetaValue',\n",
       " 'setRT',\n",
       " 'setScoreType',\n",
       " 'setSignificanceThreshold',\n",
       " 'sort',\n",
       " 'sortByRank']"
      ]
     },
     "execution_count": 19,
     "metadata": {},
     "output_type": "execute_result"
    }
   ],
   "source": [
    "[elem for elem in dir(pep_ids[0]) if not elem.startswith(\"_\")]"
   ]
  },
  {
   "cell_type": "code",
   "execution_count": null,
   "metadata": {},
   "outputs": [],
   "source": []
  },
  {
   "cell_type": "code",
   "execution_count": null,
   "metadata": {},
   "outputs": [],
   "source": []
  },
  {
   "cell_type": "code",
   "execution_count": 20,
   "metadata": {},
   "outputs": [
    {
     "data": {
      "image/png": "[encoded data removed]",
      "text/plain": [
       "<Figure size 432x288 with 1 Axes>"
      ]
     },
     "metadata": {
      "needs_background": "light"
     },
     "output_type": "display_data"
    }
   ],
   "source": [
    "spectrum_index = ms2_retention_times.index(ms2_retention_times[0])\n",
    "# The width needs to be adjusted for some arrays with extreme peaks.\n",
    "plt.bar(ms2_mz_arrays[spectrum_index], ms2_intensity_arrays[spectrum_index])\n",
    "plt.xlabel(\"m/z\")\n",
    "plt.ylabel(\"intensity\")\n",
    "plt.show()"
   ]
  },
  {
   "cell_type": "markdown",
   "metadata": {
    "scrolled": true
   },
   "source": [
    "## Storing a smaller mzML"
   ]
  },
  {
   "cell_type": "code",
   "execution_count": 21,
   "metadata": {},
   "outputs": [
    {
     "name": "stdout",
     "output_type": "stream",
     "text": [
      "2.4.0\n"
     ]
    }
   ],
   "source": [
    "from pyopenms import __version__ as pyopenms_version, MzMLFile, MSExperiment, IdXMLFile\n",
    "print(pyopenms_version)"
   ]
  },
  {
   "cell_type": "code",
   "execution_count": 22,
   "metadata": {},
   "outputs": [],
   "source": [
    "# Get the mzml file.\n",
    "DATA_DIR = Path(\"..\").resolve().joinpath(\"data/\")\n",
    "\n",
    "mzml_file = DATA_DIR.joinpath(\"1937004_Q1_5.mzML\")\n",
    "\n",
    "# Get IdXML file\n",
    "idxml_file = DATA_DIR.joinpath(\"1937004_Q1_5.idXML\")"
   ]
  },
  {
   "cell_type": "code",
   "execution_count": 23,
   "metadata": {},
   "outputs": [],
   "source": [
    "# Storing the MzML content\n",
    "exp = MSExperiment()\n",
    "MzMLFile().load(str(mzml_file), exp)"
   ]
  },
  {
   "cell_type": "code",
   "execution_count": 24,
   "metadata": {},
   "outputs": [],
   "source": [
    "spectrums = []\n",
    "max_spectrum = 1500"
   ]
  },
  {
   "cell_type": "code",
   "execution_count": 25,
   "metadata": {},
   "outputs": [],
   "source": [
    "e = MSExperiment()"
   ]
  },
  {
   "cell_type": "code",
   "execution_count": 26,
   "metadata": {},
   "outputs": [],
   "source": [
    "for i, spec in enumerate(exp):\n",
    "    if i >= max_spectrum:\n",
    "        break\n",
    "    else:\n",
    "        e.addSpectrum(spec)\n",
    "\n",
    "MzMLFile().store(\"smaller.mzML\", e)\n",
    "# print(len(spectrums))"
   ]
  },
  {
   "cell_type": "code",
   "execution_count": 27,
   "metadata": {},
   "outputs": [],
   "source": [
    "protein_ids = []\n",
    "peptide_ids = []\n",
    "\n",
    "IdXMLFile().load(str(idxml_file), protein_ids, peptide_ids)"
   ]
  },
  {
   "cell_type": "code",
   "execution_count": null,
   "metadata": {},
   "outputs": [],
   "source": []
  },
  {
   "cell_type": "markdown",
   "metadata": {},
   "source": [
    "## Compute the intensity"
   ]
  },
  {
   "cell_type": "code",
   "execution_count": 28,
   "metadata": {},
   "outputs": [
    {
     "name": "stdout",
     "output_type": "stream",
     "text": [
      "1.1.0\n"
     ]
    }
   ],
   "source": [
    "import seq_to_first_iso as stfi\n",
    "print(stfi.__version__)"
   ]
  },
  {
   "cell_type": "code",
   "execution_count": 29,
   "metadata": {},
   "outputs": [
    {
     "name": "stdout",
     "output_type": "stream",
     "text": [
      "362.73063\n",
      "415.205402217913\n",
      "controllerType=0 controllerNumber=1 scan=1008\n"
     ]
    }
   ],
   "source": [
    "# Analysis on the first peptide\n",
    "first_RT = peptide_ids[0].getRT()\n",
    "first_MZ = peptide_ids[0].getMZ()\n",
    "first_scan = peptide_ids[0].getMetaValue(\"spectrum_reference\").decode()\n",
    "\n",
    "print(first_RT)\n",
    "print(first_MZ)\n",
    "print(first_scan)"
   ]
  },
  {
   "cell_type": "code",
   "execution_count": 30,
   "metadata": {},
   "outputs": [
    {
     "name": "stdout",
     "output_type": "stream",
     "text": [
      "VQPEDNK\n",
      "0.9224059861406287\n"
     ]
    }
   ],
   "source": [
    "# A mouthful.\n",
    "first_hit = peptide_ids[0].getHits()[0].getSequence().toString().decode()\n",
    "print(first_hit)\n",
    "\n",
    "first_M0_intensity = stfi.compute_M0_nl(mass.Composition(first_hit), stfi.C12_ABUNDANCE)\n",
    "print(first_M0_intensity)"
   ]
  },
  {
   "cell_type": "code",
   "execution_count": 31,
   "metadata": {},
   "outputs": [
    {
     "data": {
      "image/png": "[encoded data removed]",
      "text/plain": [
       "<Figure size 432x288 with 1 Axes>"
      ]
     },
     "metadata": {
      "needs_background": "light"
     },
     "output_type": "display_data"
    }
   ],
   "source": [
    "for i, ms2_scan in enumerate(ms2_scans):\n",
    "    if ms2_scan == first_scan:\n",
    "        # Assumes same order.\n",
    "        spectrum_index = ms2_retention_times.index(ms2_retention_times[i])\n",
    "        # The width needs to be adjusted for some arrays with extreme peaks.\n",
    "        plt.bar(ms2_mz_arrays[spectrum_index], ms2_intensity_arrays[spectrum_index])\n",
    "        # Add the hit.  PROBLEM: the intensity is the normalized intensity. \n",
    "        plt.bar(first_MZ, first_M0_intensity)\n",
    "        plt.xlabel(\"m/z\")\n",
    "        plt.ylabel(\"intensity\")\n",
    "        plt.show()\n",
    "        break"
   ]
  },
  {
   "cell_type": "code",
   "execution_count": null,
   "metadata": {},
   "outputs": [],
   "source": []
  },
  {
   "cell_type": "markdown",
   "metadata": {},
   "source": [
    "## Append data to a HDF5"
   ]
  },
  {
   "cell_type": "code",
   "execution_count": null,
   "metadata": {},
   "outputs": [],
   "source": []
  },
  {
   "cell_type": "code",
   "execution_count": null,
   "metadata": {},
   "outputs": [],
   "source": []
  },
  {
   "cell_type": "code",
   "execution_count": 32,
   "metadata": {},
   "outputs": [],
   "source": [
    "import pandas as pd  # The pytables dependency is needed\n",
    "# from collections import defaultdict\n",
    "import numpy as np"
   ]
  },
  {
   "cell_type": "code",
   "execution_count": null,
   "metadata": {},
   "outputs": [],
   "source": []
  },
  {
   "cell_type": "code",
   "execution_count": 33,
   "metadata": {},
   "outputs": [
    {
     "name": "stdout",
     "output_type": "stream",
     "text": [
      "HDF5 finished\n"
     ]
    }
   ],
   "source": [
    "# Convert values to HDF5.  Beware if HDF5 already exists\n",
    "MS1_values = []\n",
    "store = pd.HDFStore('store.h5')\n",
    "chunk_size = 2000\n",
    "\n",
    "# Supposes intensities and mz have same order.  Iterate over RT.\n",
    "for i in range(len(ms1_retention_times)):\n",
    "    # Dict of mz:intensity for MS1 at each recorded RT.  The mz is rounded to avoid too many mz.\n",
    "    MS1_values.append({round(mz):intensity for mz, intensity in zip(ms1_mz_arrays[i],\n",
    "                                                                    ms1_intensity_arrays[i])})\n",
    "\n",
    "    # Dump information in the hdf5 every 2000 elements.\n",
    "    # HDF5 also has a size limit for the header (column number).\n",
    "    if i % chunk_size == 0:\n",
    "        df = pd.DataFrame(MS1_values, index=ms1_retention_times[:i], columns=range(300, 1700, 1))\n",
    "        # Replace Nan by 0.\n",
    "        df.fillna(0, inplace=True)\n",
    "        store.append(\"df\", df)\n",
    "        MS1_values = []\n",
    "        # Temporary break.\n",
    "        if i >= chunk_size:\n",
    "            break\n",
    "            \n",
    "print(\"HDF5 finished\")"
   ]
  },
  {
   "cell_type": "code",
   "execution_count": 34,
   "metadata": {},
   "outputs": [
    {
     "data": {
      "text/html": [
       "<div>\n",
       "<style scoped>\n",
       "    .dataframe tbody tr th:only-of-type {\n",
       "        vertical-align: middle;\n",
       "    }\n",
       "\n",
       "    .dataframe tbody tr th {\n",
       "        vertical-align: top;\n",
       "    }\n",
       "\n",
       "    .dataframe thead th {\n",
       "        text-align: right;\n",
       "    }\n",
       "</style>\n",
       "<table border=\"1\" class=\"dataframe\">\n",
       "  <thead>\n",
       "    <tr style=\"text-align: right;\">\n",
       "      <th></th>\n",
       "      <th>300</th>\n",
       "      <th>301</th>\n",
       "      <th>302</th>\n",
       "      <th>303</th>\n",
       "      <th>304</th>\n",
       "      <th>305</th>\n",
       "      <th>306</th>\n",
       "      <th>307</th>\n",
       "      <th>308</th>\n",
       "      <th>309</th>\n",
       "      <th>...</th>\n",
       "      <th>1690</th>\n",
       "      <th>1691</th>\n",
       "      <th>1692</th>\n",
       "      <th>1693</th>\n",
       "      <th>1694</th>\n",
       "      <th>1695</th>\n",
       "      <th>1696</th>\n",
       "      <th>1697</th>\n",
       "      <th>1698</th>\n",
       "      <th>1699</th>\n",
       "    </tr>\n",
       "  </thead>\n",
       "  <tbody>\n",
       "    <tr>\n",
       "      <th>0.003006</th>\n",
       "      <td>0.0</td>\n",
       "      <td>0.0</td>\n",
       "      <td>0.0</td>\n",
       "      <td>0.0</td>\n",
       "      <td>0.0</td>\n",
       "      <td>0.0</td>\n",
       "      <td>0.0</td>\n",
       "      <td>0.0</td>\n",
       "      <td>0.0</td>\n",
       "      <td>0.0</td>\n",
       "      <td>...</td>\n",
       "      <td>0.0</td>\n",
       "      <td>0.0</td>\n",
       "      <td>0.0</td>\n",
       "      <td>0.0</td>\n",
       "      <td>0.0</td>\n",
       "      <td>0.0</td>\n",
       "      <td>0.0</td>\n",
       "      <td>0.0</td>\n",
       "      <td>0.0</td>\n",
       "      <td>0.0</td>\n",
       "    </tr>\n",
       "    <tr>\n",
       "      <th>0.011141</th>\n",
       "      <td>0.0</td>\n",
       "      <td>0.0</td>\n",
       "      <td>0.0</td>\n",
       "      <td>0.0</td>\n",
       "      <td>0.0</td>\n",
       "      <td>0.0</td>\n",
       "      <td>0.0</td>\n",
       "      <td>0.0</td>\n",
       "      <td>0.0</td>\n",
       "      <td>0.0</td>\n",
       "      <td>...</td>\n",
       "      <td>0.0</td>\n",
       "      <td>0.0</td>\n",
       "      <td>0.0</td>\n",
       "      <td>0.0</td>\n",
       "      <td>0.0</td>\n",
       "      <td>0.0</td>\n",
       "      <td>0.0</td>\n",
       "      <td>0.0</td>\n",
       "      <td>0.0</td>\n",
       "      <td>0.0</td>\n",
       "    </tr>\n",
       "    <tr>\n",
       "      <th>0.017401</th>\n",
       "      <td>0.0</td>\n",
       "      <td>0.0</td>\n",
       "      <td>0.0</td>\n",
       "      <td>0.0</td>\n",
       "      <td>0.0</td>\n",
       "      <td>0.0</td>\n",
       "      <td>0.0</td>\n",
       "      <td>0.0</td>\n",
       "      <td>0.0</td>\n",
       "      <td>0.0</td>\n",
       "      <td>...</td>\n",
       "      <td>0.0</td>\n",
       "      <td>0.0</td>\n",
       "      <td>0.0</td>\n",
       "      <td>0.0</td>\n",
       "      <td>0.0</td>\n",
       "      <td>0.0</td>\n",
       "      <td>0.0</td>\n",
       "      <td>0.0</td>\n",
       "      <td>0.0</td>\n",
       "      <td>0.0</td>\n",
       "    </tr>\n",
       "    <tr>\n",
       "      <th>0.023693</th>\n",
       "      <td>0.0</td>\n",
       "      <td>0.0</td>\n",
       "      <td>0.0</td>\n",
       "      <td>0.0</td>\n",
       "      <td>0.0</td>\n",
       "      <td>0.0</td>\n",
       "      <td>0.0</td>\n",
       "      <td>0.0</td>\n",
       "      <td>0.0</td>\n",
       "      <td>0.0</td>\n",
       "      <td>...</td>\n",
       "      <td>0.0</td>\n",
       "      <td>0.0</td>\n",
       "      <td>0.0</td>\n",
       "      <td>0.0</td>\n",
       "      <td>0.0</td>\n",
       "      <td>0.0</td>\n",
       "      <td>0.0</td>\n",
       "      <td>0.0</td>\n",
       "      <td>0.0</td>\n",
       "      <td>0.0</td>\n",
       "    </tr>\n",
       "    <tr>\n",
       "      <th>0.030447</th>\n",
       "      <td>0.0</td>\n",
       "      <td>0.0</td>\n",
       "      <td>0.0</td>\n",
       "      <td>0.0</td>\n",
       "      <td>0.0</td>\n",
       "      <td>0.0</td>\n",
       "      <td>0.0</td>\n",
       "      <td>0.0</td>\n",
       "      <td>0.0</td>\n",
       "      <td>0.0</td>\n",
       "      <td>...</td>\n",
       "      <td>0.0</td>\n",
       "      <td>0.0</td>\n",
       "      <td>0.0</td>\n",
       "      <td>0.0</td>\n",
       "      <td>0.0</td>\n",
       "      <td>0.0</td>\n",
       "      <td>0.0</td>\n",
       "      <td>0.0</td>\n",
       "      <td>0.0</td>\n",
       "      <td>0.0</td>\n",
       "    </tr>\n",
       "    <tr>\n",
       "      <th>...</th>\n",
       "      <td>...</td>\n",
       "      <td>...</td>\n",
       "      <td>...</td>\n",
       "      <td>...</td>\n",
       "      <td>...</td>\n",
       "      <td>...</td>\n",
       "      <td>...</td>\n",
       "      <td>...</td>\n",
       "      <td>...</td>\n",
       "      <td>...</td>\n",
       "      <td>...</td>\n",
       "      <td>...</td>\n",
       "      <td>...</td>\n",
       "      <td>...</td>\n",
       "      <td>...</td>\n",
       "      <td>...</td>\n",
       "      <td>...</td>\n",
       "      <td>...</td>\n",
       "      <td>...</td>\n",
       "      <td>...</td>\n",
       "      <td>...</td>\n",
       "    </tr>\n",
       "    <tr>\n",
       "      <th>12.579359</th>\n",
       "      <td>0.0</td>\n",
       "      <td>0.0</td>\n",
       "      <td>0.0</td>\n",
       "      <td>0.0</td>\n",
       "      <td>0.0</td>\n",
       "      <td>0.0</td>\n",
       "      <td>0.0</td>\n",
       "      <td>0.0</td>\n",
       "      <td>0.0</td>\n",
       "      <td>0.0</td>\n",
       "      <td>...</td>\n",
       "      <td>0.0</td>\n",
       "      <td>0.0</td>\n",
       "      <td>0.0</td>\n",
       "      <td>0.0</td>\n",
       "      <td>0.0</td>\n",
       "      <td>0.0</td>\n",
       "      <td>0.0</td>\n",
       "      <td>0.0</td>\n",
       "      <td>0.0</td>\n",
       "      <td>0.0</td>\n",
       "    </tr>\n",
       "    <tr>\n",
       "      <th>12.586196</th>\n",
       "      <td>0.0</td>\n",
       "      <td>0.0</td>\n",
       "      <td>0.0</td>\n",
       "      <td>0.0</td>\n",
       "      <td>0.0</td>\n",
       "      <td>0.0</td>\n",
       "      <td>0.0</td>\n",
       "      <td>0.0</td>\n",
       "      <td>0.0</td>\n",
       "      <td>0.0</td>\n",
       "      <td>...</td>\n",
       "      <td>0.0</td>\n",
       "      <td>0.0</td>\n",
       "      <td>0.0</td>\n",
       "      <td>0.0</td>\n",
       "      <td>0.0</td>\n",
       "      <td>0.0</td>\n",
       "      <td>0.0</td>\n",
       "      <td>0.0</td>\n",
       "      <td>0.0</td>\n",
       "      <td>0.0</td>\n",
       "    </tr>\n",
       "    <tr>\n",
       "      <th>12.592467</th>\n",
       "      <td>0.0</td>\n",
       "      <td>0.0</td>\n",
       "      <td>0.0</td>\n",
       "      <td>0.0</td>\n",
       "      <td>0.0</td>\n",
       "      <td>0.0</td>\n",
       "      <td>0.0</td>\n",
       "      <td>0.0</td>\n",
       "      <td>0.0</td>\n",
       "      <td>0.0</td>\n",
       "      <td>...</td>\n",
       "      <td>0.0</td>\n",
       "      <td>0.0</td>\n",
       "      <td>0.0</td>\n",
       "      <td>0.0</td>\n",
       "      <td>0.0</td>\n",
       "      <td>0.0</td>\n",
       "      <td>0.0</td>\n",
       "      <td>0.0</td>\n",
       "      <td>0.0</td>\n",
       "      <td>0.0</td>\n",
       "    </tr>\n",
       "    <tr>\n",
       "      <th>12.598723</th>\n",
       "      <td>0.0</td>\n",
       "      <td>0.0</td>\n",
       "      <td>0.0</td>\n",
       "      <td>0.0</td>\n",
       "      <td>0.0</td>\n",
       "      <td>0.0</td>\n",
       "      <td>0.0</td>\n",
       "      <td>0.0</td>\n",
       "      <td>0.0</td>\n",
       "      <td>0.0</td>\n",
       "      <td>...</td>\n",
       "      <td>0.0</td>\n",
       "      <td>0.0</td>\n",
       "      <td>0.0</td>\n",
       "      <td>0.0</td>\n",
       "      <td>0.0</td>\n",
       "      <td>0.0</td>\n",
       "      <td>0.0</td>\n",
       "      <td>0.0</td>\n",
       "      <td>0.0</td>\n",
       "      <td>0.0</td>\n",
       "    </tr>\n",
       "    <tr>\n",
       "      <th>12.604984</th>\n",
       "      <td>0.0</td>\n",
       "      <td>0.0</td>\n",
       "      <td>0.0</td>\n",
       "      <td>0.0</td>\n",
       "      <td>0.0</td>\n",
       "      <td>0.0</td>\n",
       "      <td>0.0</td>\n",
       "      <td>0.0</td>\n",
       "      <td>0.0</td>\n",
       "      <td>0.0</td>\n",
       "      <td>...</td>\n",
       "      <td>0.0</td>\n",
       "      <td>0.0</td>\n",
       "      <td>0.0</td>\n",
       "      <td>0.0</td>\n",
       "      <td>0.0</td>\n",
       "      <td>0.0</td>\n",
       "      <td>0.0</td>\n",
       "      <td>0.0</td>\n",
       "      <td>0.0</td>\n",
       "      <td>0.0</td>\n",
       "    </tr>\n",
       "  </tbody>\n",
       "</table>\n",
       "<p>4000 rows × 1400 columns</p>\n",
       "</div>"
      ],
      "text/plain": [
       "           300   301   302   303   304   305   306   307   308   309   ...  \\\n",
       "0.003006    0.0   0.0   0.0   0.0   0.0   0.0   0.0   0.0   0.0   0.0  ...   \n",
       "0.011141    0.0   0.0   0.0   0.0   0.0   0.0   0.0   0.0   0.0   0.0  ...   \n",
       "0.017401    0.0   0.0   0.0   0.0   0.0   0.0   0.0   0.0   0.0   0.0  ...   \n",
       "0.023693    0.0   0.0   0.0   0.0   0.0   0.0   0.0   0.0   0.0   0.0  ...   \n",
       "0.030447    0.0   0.0   0.0   0.0   0.0   0.0   0.0   0.0   0.0   0.0  ...   \n",
       "...         ...   ...   ...   ...   ...   ...   ...   ...   ...   ...  ...   \n",
       "12.579359   0.0   0.0   0.0   0.0   0.0   0.0   0.0   0.0   0.0   0.0  ...   \n",
       "12.586196   0.0   0.0   0.0   0.0   0.0   0.0   0.0   0.0   0.0   0.0  ...   \n",
       "12.592467   0.0   0.0   0.0   0.0   0.0   0.0   0.0   0.0   0.0   0.0  ...   \n",
       "12.598723   0.0   0.0   0.0   0.0   0.0   0.0   0.0   0.0   0.0   0.0  ...   \n",
       "12.604984   0.0   0.0   0.0   0.0   0.0   0.0   0.0   0.0   0.0   0.0  ...   \n",
       "\n",
       "           1690  1691  1692  1693  1694  1695  1696  1697  1698  1699  \n",
       "0.003006    0.0   0.0   0.0   0.0   0.0   0.0   0.0   0.0   0.0   0.0  \n",
       "0.011141    0.0   0.0   0.0   0.0   0.0   0.0   0.0   0.0   0.0   0.0  \n",
       "0.017401    0.0   0.0   0.0   0.0   0.0   0.0   0.0   0.0   0.0   0.0  \n",
       "0.023693    0.0   0.0   0.0   0.0   0.0   0.0   0.0   0.0   0.0   0.0  \n",
       "0.030447    0.0   0.0   0.0   0.0   0.0   0.0   0.0   0.0   0.0   0.0  \n",
       "...         ...   ...   ...   ...   ...   ...   ...   ...   ...   ...  \n",
       "12.579359   0.0   0.0   0.0   0.0   0.0   0.0   0.0   0.0   0.0   0.0  \n",
       "12.586196   0.0   0.0   0.0   0.0   0.0   0.0   0.0   0.0   0.0   0.0  \n",
       "12.592467   0.0   0.0   0.0   0.0   0.0   0.0   0.0   0.0   0.0   0.0  \n",
       "12.598723   0.0   0.0   0.0   0.0   0.0   0.0   0.0   0.0   0.0   0.0  \n",
       "12.604984   0.0   0.0   0.0   0.0   0.0   0.0   0.0   0.0   0.0   0.0  \n",
       "\n",
       "[4000 rows x 1400 columns]"
      ]
     },
     "execution_count": 34,
     "metadata": {},
     "output_type": "execute_result"
    }
   ],
   "source": [
    "store.get('df')"
   ]
  },
  {
   "cell_type": "code",
   "execution_count": 35,
   "metadata": {},
   "outputs": [
    {
     "name": "stderr",
     "output_type": "stream",
     "text": [
      "ERROR:MainThread:vaex:issue loading reader\n",
      "Traceback (most recent call last):\n",
      "  File \"/home/sdv/m2bi/lyang_crosson/.conda/envs/JupyterMS/lib/python3.7/site-packages/vaex/__init__.py\", line 720, in <module>\n",
      "    add_namespace = entry.load()\n",
      "  File \"/home/sdv/m2bi/lyang_crosson/.conda/envs/JupyterMS/lib/python3.7/site-packages/pkg_resources/__init__.py\", line 2442, in load\n",
      "    self.require(*args, **kwargs)\n",
      "  File \"/home/sdv/m2bi/lyang_crosson/.conda/envs/JupyterMS/lib/python3.7/site-packages/pkg_resources/__init__.py\", line 2465, in require\n",
      "    items = working_set.resolve(reqs, env, installer, extras=self.extras)\n",
      "  File \"/home/sdv/m2bi/lyang_crosson/.conda/envs/JupyterMS/lib/python3.7/site-packages/pkg_resources/__init__.py\", line 791, in resolve\n",
      "    raise VersionConflict(dist, req).with_context(dependent_req)\n",
      "pkg_resources.VersionConflict: (pyarrow 0.11.1 (/home/sdv/m2bi/lyang_crosson/.conda/envs/JupyterMS/lib/python3.7/site-packages), Requirement.parse('pyarrow>=0.15'))\n"
     ]
    }
   ],
   "source": [
    "import vaex"
   ]
  },
  {
   "cell_type": "code",
   "execution_count": 36,
   "metadata": {},
   "outputs": [
    {
     "name": "stderr",
     "output_type": "stream",
     "text": [
      "ERROR:MainThread:vaex:error opening 'store.h5'\n"
     ]
    },
    {
     "ename": "OSError",
     "evalue": "Could not open file: store.h5, did you install vaex-hdf5? Is the format supported?",
     "output_type": "error",
     "traceback": [
      "\u001b[0;31m---------------------------------------------------------------------------\u001b[0m",
      "\u001b[0;31mOSError\u001b[0m                                   Traceback (most recent call last)",
      "\u001b[0;32m<ipython-input-36-c385734dee4f>\u001b[0m in \u001b[0;36m<module>\u001b[0;34m\u001b[0m\n\u001b[0;32m----> 1\u001b[0;31m \u001b[0mdf\u001b[0m \u001b[0;34m=\u001b[0m \u001b[0mvaex\u001b[0m\u001b[0;34m.\u001b[0m\u001b[0mopen\u001b[0m\u001b[0;34m(\u001b[0m\u001b[0;34m\"store.h5\"\u001b[0m\u001b[0;34m)\u001b[0m\u001b[0;34m\u001b[0m\u001b[0;34m\u001b[0m\u001b[0m\n\u001b[0m",
      "\u001b[0;32m~/.conda/envs/JupyterMS/lib/python3.7/site-packages/vaex/__init__.py\u001b[0m in \u001b[0;36mopen\u001b[0;34m(path, convert, shuffle, copy_index, *args, **kwargs)\u001b[0m\n\u001b[1;32m    213\u001b[0m                 \u001b[0;32mif\u001b[0m \u001b[0mds\u001b[0m \u001b[0;32mis\u001b[0m \u001b[0;32mNone\u001b[0m\u001b[0;34m:\u001b[0m\u001b[0;34m\u001b[0m\u001b[0;34m\u001b[0m\u001b[0m\n\u001b[1;32m    214\u001b[0m                     \u001b[0;32mif\u001b[0m \u001b[0mos\u001b[0m\u001b[0;34m.\u001b[0m\u001b[0mpath\u001b[0m\u001b[0;34m.\u001b[0m\u001b[0mexists\u001b[0m\u001b[0;34m(\u001b[0m\u001b[0mpath\u001b[0m\u001b[0;34m)\u001b[0m\u001b[0;34m:\u001b[0m\u001b[0;34m\u001b[0m\u001b[0;34m\u001b[0m\u001b[0m\n\u001b[0;32m--> 215\u001b[0;31m                         \u001b[0;32mraise\u001b[0m \u001b[0mIOError\u001b[0m\u001b[0;34m(\u001b[0m\u001b[0;34m'Could not open file: {}, did you install vaex-hdf5? Is the format supported?'\u001b[0m\u001b[0;34m.\u001b[0m\u001b[0mformat\u001b[0m\u001b[0;34m(\u001b[0m\u001b[0mpath\u001b[0m\u001b[0;34m)\u001b[0m\u001b[0;34m)\u001b[0m\u001b[0;34m\u001b[0m\u001b[0;34m\u001b[0m\u001b[0m\n\u001b[0m\u001b[1;32m    216\u001b[0m                     \u001b[0;32mif\u001b[0m \u001b[0mos\u001b[0m\u001b[0;34m.\u001b[0m\u001b[0mpath\u001b[0m\u001b[0;34m.\u001b[0m\u001b[0mexists\u001b[0m\u001b[0;34m(\u001b[0m\u001b[0mpath\u001b[0m\u001b[0;34m)\u001b[0m\u001b[0;34m:\u001b[0m\u001b[0;34m\u001b[0m\u001b[0;34m\u001b[0m\u001b[0m\n\u001b[1;32m    217\u001b[0m                         \u001b[0;32mraise\u001b[0m \u001b[0mIOError\u001b[0m\u001b[0;34m(\u001b[0m\u001b[0;34m'Could not open file: {}, it does not exist?'\u001b[0m\u001b[0;34m.\u001b[0m\u001b[0mformat\u001b[0m\u001b[0;34m(\u001b[0m\u001b[0mpath\u001b[0m\u001b[0;34m)\u001b[0m\u001b[0;34m)\u001b[0m\u001b[0;34m\u001b[0m\u001b[0;34m\u001b[0m\u001b[0m\n",
      "\u001b[0;31mOSError\u001b[0m: Could not open file: store.h5, did you install vaex-hdf5? Is the format supported?"
     ]
    }
   ],
   "source": [
    "df = vaex.open(\"store.h5\")"
   ]
  },
  {
   "cell_type": "code",
   "execution_count": null,
   "metadata": {},
   "outputs": [],
   "source": []
  },
  {
   "cell_type": "code",
   "execution_count": null,
   "metadata": {},
   "outputs": [],
   "source": []
  }
 ],
 "metadata": {
  "kernelspec": {
   "display_name": "Python 3",
   "language": "python",
   "name": "python3"
  },
  "language_info": {
   "codemirror_mode": {
    "name": "ipython",
    "version": 3
   },
   "file_extension": ".py",
   "mimetype": "text/x-python",
   "name": "python",
   "nbconvert_exporter": "python",
   "pygments_lexer": "ipython3",
   "version": "3.7.5"
  }
 },
 "nbformat": 4,
 "nbformat_minor": 2
}
